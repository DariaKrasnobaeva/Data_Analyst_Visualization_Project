{
 "cells": [
  {
   "cell_type": "code",
   "execution_count": 4,
   "metadata": {},
   "outputs": [],
   "source": [
    "# import all packages and set plots to be embedded inline\n",
    "import numpy as np\n",
    "import pandas as pd\n",
    "import matplotlib.pyplot as plt\n",
    "import seaborn as sb\n",
    "\n",
    "%matplotlib inline"
   ]
  },
  {
   "cell_type": "code",
   "execution_count": 5,
   "metadata": {},
   "outputs": [],
   "source": [
    "# load in the dataset into a pandas dataframe, print statistics\n",
    "df= pd.read_csv('Project_data_airline_delay_causes.csv')"
   ]
  },
  {
   "cell_type": "code",
   "execution_count": 7,
   "metadata": {
    "scrolled": true
   },
   "outputs": [
    {
     "name": "stdout",
     "output_type": "stream",
     "text": [
      "(158150, 22)\n",
      "year                     int64\n",
      " month                   int64\n",
      "carrier                 object\n",
      "carrier_name            object\n",
      "airport                 object\n",
      "airport_name            object\n",
      "arr_flights            float64\n",
      "arr_del15              float64\n",
      "carrier_ct             float64\n",
      " weather_ct            float64\n",
      "nas_ct                 float64\n",
      "security_ct            float64\n",
      "late_aircraft_ct       float64\n",
      "arr_cancelled          float64\n",
      "arr_diverted           float64\n",
      " arr_delay             float64\n",
      " carrier_delay         float64\n",
      "weather_delay          float64\n",
      "nas_delay              float64\n",
      "security_delay         float64\n",
      "late_aircraft_delay    float64\n",
      "Unnamed: 21            float64\n",
      "dtype: object\n"
     ]
    }
   ],
   "source": [
    "# high-level overview of data shape and composition\n",
    "print(df.shape)\n",
    "print(df.dtypes)"
   ]
  },
  {
   "cell_type": "code",
   "execution_count": 10,
   "metadata": {},
   "outputs": [
    {
     "name": "stdout",
     "output_type": "stream",
     "text": [
      "   year   month carrier            carrier_name airport  \\\n",
      "0  2010       4      9E  Pinnacle Airlines Inc.     ABE   \n",
      "1  2010       4      9E  Pinnacle Airlines Inc.     AEX   \n",
      "2  2010       4      9E  Pinnacle Airlines Inc.     ALB   \n",
      "3  2010       4      9E  Pinnacle Airlines Inc.     ALO   \n",
      "4  2010       4      9E  Pinnacle Airlines Inc.     ATL   \n",
      "5  2010       4      9E  Pinnacle Airlines Inc.     ATW   \n",
      "6  2010       4      9E  Pinnacle Airlines Inc.     AUS   \n",
      "7  2010       4      9E  Pinnacle Airlines Inc.     AVL   \n",
      "8  2010       4      9E  Pinnacle Airlines Inc.     AVP   \n",
      "9  2010       4      9E  Pinnacle Airlines Inc.     AZO   \n",
      "\n",
      "                                        airport_name  arr_flights  arr_del15  \\\n",
      "0  Allentown/Bethlehem/Easton, PA: Lehigh Valley ...        109.0        8.0   \n",
      "1           Alexandria, LA: Alexandria International          8.0        0.0   \n",
      "2                   Albany, NY: Albany International        110.0       13.0   \n",
      "3                    Waterloo, IA: Waterloo Regional         23.0        3.0   \n",
      "4  Atlanta, GA: Hartsfield-Jackson Atlanta Intern...       1146.0      206.0   \n",
      "5               Appleton, WI: Appleton International        133.0       23.0   \n",
      "6       Austin, TX: Austin - Bergstrom International         93.0       14.0   \n",
      "7                  Asheville, NC: Asheville Regional         55.0        5.0   \n",
      "8  Scranton/Wilkes-Barre, PA: Wilkes Barre Scrant...         86.0        8.0   \n",
      "9  Kalamazoo, MI: Kalamazoo/Battle Creek Internat...        190.0       22.0   \n",
      "\n",
      "   carrier_ct   weather_ct  ...  late_aircraft_ct  arr_cancelled  \\\n",
      "0        5.53         0.00  ...              2.00            0.0   \n",
      "1        0.00         0.00  ...              0.00            1.0   \n",
      "2        9.00         1.00  ...              0.00            1.0   \n",
      "3        2.00         0.00  ...              0.78            0.0   \n",
      "4       32.31         6.03  ...             51.67           13.0   \n",
      "5       13.28         0.00  ...              3.79            0.0   \n",
      "6        8.83         0.00  ...              1.00            1.0   \n",
      "7        1.96         0.00  ...              1.00            0.0   \n",
      "8        2.99         0.00  ...              1.00            1.0   \n",
      "9       15.21         1.00  ...              3.91            3.0   \n",
      "\n",
      "   arr_diverted   arr_delay   carrier_delay  weather_delay  nas_delay  \\\n",
      "0           1.0       437.0           390.0            0.0       10.0   \n",
      "1           0.0         0.0             0.0            0.0        0.0   \n",
      "2           0.0       376.0           311.0           17.0       48.0   \n",
      "3           0.0       123.0           105.0            0.0        4.0   \n",
      "4           1.0     12939.0          2445.0          652.0     6053.0   \n",
      "5           0.0       761.0           484.0            0.0      188.0   \n",
      "6           0.0       882.0           760.0            0.0       93.0   \n",
      "7           0.0       401.0           128.0            0.0      200.0   \n",
      "8           0.0       189.0            79.0            0.0       92.0   \n",
      "9           0.0      1109.0           923.0           57.0       44.0   \n",
      "\n",
      "   security_delay  late_aircraft_delay  Unnamed: 21  \n",
      "0             0.0                 37.0          NaN  \n",
      "1             0.0                  0.0          NaN  \n",
      "2             0.0                  0.0          NaN  \n",
      "3             0.0                 14.0          NaN  \n",
      "4             0.0               3789.0          NaN  \n",
      "5             0.0                 89.0          NaN  \n",
      "6             0.0                 29.0          NaN  \n",
      "7             0.0                 73.0          NaN  \n",
      "8             0.0                 18.0          NaN  \n",
      "9             0.0                 85.0          NaN  \n",
      "\n",
      "[10 rows x 22 columns]\n"
     ]
    }
   ],
   "source": [
    "print(df.head(10))"
   ]
  },
  {
   "cell_type": "code",
   "execution_count": 9,
   "metadata": {},
   "outputs": [
    {
     "name": "stdout",
     "output_type": "stream",
     "text": [
      "<class 'pandas.core.frame.DataFrame'>\n",
      "RangeIndex: 158150 entries, 0 to 158149\n",
      "Data columns (total 22 columns):\n",
      "year                   158150 non-null int64\n",
      " month                 158150 non-null int64\n",
      "carrier                158150 non-null object\n",
      "carrier_name           158150 non-null object\n",
      "airport                158150 non-null object\n",
      "airport_name           158150 non-null object\n",
      "arr_flights            157987 non-null float64\n",
      "arr_del15              157953 non-null float64\n",
      "carrier_ct             157987 non-null float64\n",
      " weather_ct            157987 non-null float64\n",
      "nas_ct                 157987 non-null float64\n",
      "security_ct            157987 non-null float64\n",
      "late_aircraft_ct       157987 non-null float64\n",
      "arr_cancelled          157987 non-null float64\n",
      "arr_diverted           157987 non-null float64\n",
      " arr_delay             157987 non-null float64\n",
      " carrier_delay         157987 non-null float64\n",
      "weather_delay          157987 non-null float64\n",
      "nas_delay              157987 non-null float64\n",
      "security_delay         157987 non-null float64\n",
      "late_aircraft_delay    157987 non-null float64\n",
      "Unnamed: 21            0 non-null float64\n",
      "dtypes: float64(16), int64(2), object(4)\n",
      "memory usage: 26.5+ MB\n"
     ]
    }
   ],
   "source": [
    "df.info()"
   ]
  },
  {
   "cell_type": "code",
   "execution_count": null,
   "metadata": {},
   "outputs": [],
   "source": []
  }
 ],
 "metadata": {
  "kernelspec": {
   "display_name": "Python 3",
   "language": "python",
   "name": "python3"
  },
  "language_info": {
   "codemirror_mode": {
    "name": "ipython",
    "version": 3
   },
   "file_extension": ".py",
   "mimetype": "text/x-python",
   "name": "python",
   "nbconvert_exporter": "python",
   "pygments_lexer": "ipython3",
   "version": "3.7.6"
  }
 },
 "nbformat": 4,
 "nbformat_minor": 2
}
