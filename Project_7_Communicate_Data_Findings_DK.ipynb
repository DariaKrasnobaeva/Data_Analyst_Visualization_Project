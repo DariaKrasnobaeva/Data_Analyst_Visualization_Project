{
 "cells": [
  {
   "cell_type": "markdown",
   "metadata": {},
   "source": [
    "# Communicate Data Findings Project\n",
    "## Based on data from Bureau of Transportation Statisctic from April 2010 till March 2020\n",
    "\n",
    "### Project made by Daria Krasnobaeva\n",
    "\n",
    "This document explores a dataset containing monthly information about different Airlines and their attributes, such like flughts delays and cancellations, for the timeslot of 10 years."
   ]
  },
  {
   "cell_type": "code",
   "execution_count": 24,
   "metadata": {},
   "outputs": [],
   "source": [
    "# import all packages and set plots to be embedded inline\n",
    "import numpy as np\n",
    "import pandas as pd\n",
    "import matplotlib.pyplot as plt\n",
    "import seaborn as sb\n",
    "\n",
    "%matplotlib inline"
   ]
  },
  {
   "cell_type": "code",
   "execution_count": 25,
   "metadata": {},
   "outputs": [],
   "source": [
    "# load in the dataset into a pandas dataframe, print statistics\n",
    "df= pd.read_csv('Project_data_airline_delay_causes.csv')"
   ]
  },
  {
   "cell_type": "code",
   "execution_count": 26,
   "metadata": {
    "scrolled": true
   },
   "outputs": [
    {
     "name": "stdout",
     "output_type": "stream",
     "text": [
      "(158150, 22)\n",
      "year                     int64\n",
      " month                   int64\n",
      "carrier                 object\n",
      "carrier_name            object\n",
      "airport                 object\n",
      "airport_name            object\n",
      "arr_flights            float64\n",
      "arr_del15              float64\n",
      "carrier_ct             float64\n",
      " weather_ct            float64\n",
      "nas_ct                 float64\n",
      "security_ct            float64\n",
      "late_aircraft_ct       float64\n",
      "arr_cancelled          float64\n",
      "arr_diverted           float64\n",
      " arr_delay             float64\n",
      " carrier_delay         float64\n",
      "weather_delay          float64\n",
      "nas_delay              float64\n",
      "security_delay         float64\n",
      "late_aircraft_delay    float64\n",
      "Unnamed: 21            float64\n",
      "dtype: object\n"
     ]
    }
   ],
   "source": [
    "# high-level overview of data shape and composition\n",
    "print(df.shape)\n",
    "print(df.dtypes)"
   ]
  },
  {
   "cell_type": "code",
   "execution_count": 27,
   "metadata": {},
   "outputs": [
    {
     "name": "stdout",
     "output_type": "stream",
     "text": [
      "   year   month carrier            carrier_name airport  \\\n",
      "0  2010       4      9E  Pinnacle Airlines Inc.     ABE   \n",
      "1  2010       4      9E  Pinnacle Airlines Inc.     AEX   \n",
      "2  2010       4      9E  Pinnacle Airlines Inc.     ALB   \n",
      "3  2010       4      9E  Pinnacle Airlines Inc.     ALO   \n",
      "4  2010       4      9E  Pinnacle Airlines Inc.     ATL   \n",
      "5  2010       4      9E  Pinnacle Airlines Inc.     ATW   \n",
      "6  2010       4      9E  Pinnacle Airlines Inc.     AUS   \n",
      "7  2010       4      9E  Pinnacle Airlines Inc.     AVL   \n",
      "8  2010       4      9E  Pinnacle Airlines Inc.     AVP   \n",
      "9  2010       4      9E  Pinnacle Airlines Inc.     AZO   \n",
      "\n",
      "                                        airport_name  arr_flights  arr_del15  \\\n",
      "0  Allentown/Bethlehem/Easton, PA: Lehigh Valley ...        109.0        8.0   \n",
      "1           Alexandria, LA: Alexandria International          8.0        0.0   \n",
      "2                   Albany, NY: Albany International        110.0       13.0   \n",
      "3                    Waterloo, IA: Waterloo Regional         23.0        3.0   \n",
      "4  Atlanta, GA: Hartsfield-Jackson Atlanta Intern...       1146.0      206.0   \n",
      "5               Appleton, WI: Appleton International        133.0       23.0   \n",
      "6       Austin, TX: Austin - Bergstrom International         93.0       14.0   \n",
      "7                  Asheville, NC: Asheville Regional         55.0        5.0   \n",
      "8  Scranton/Wilkes-Barre, PA: Wilkes Barre Scrant...         86.0        8.0   \n",
      "9  Kalamazoo, MI: Kalamazoo/Battle Creek Internat...        190.0       22.0   \n",
      "\n",
      "   carrier_ct   weather_ct  ...  late_aircraft_ct  arr_cancelled  \\\n",
      "0        5.53         0.00  ...              2.00            0.0   \n",
      "1        0.00         0.00  ...              0.00            1.0   \n",
      "2        9.00         1.00  ...              0.00            1.0   \n",
      "3        2.00         0.00  ...              0.78            0.0   \n",
      "4       32.31         6.03  ...             51.67           13.0   \n",
      "5       13.28         0.00  ...              3.79            0.0   \n",
      "6        8.83         0.00  ...              1.00            1.0   \n",
      "7        1.96         0.00  ...              1.00            0.0   \n",
      "8        2.99         0.00  ...              1.00            1.0   \n",
      "9       15.21         1.00  ...              3.91            3.0   \n",
      "\n",
      "   arr_diverted   arr_delay   carrier_delay  weather_delay  nas_delay  \\\n",
      "0           1.0       437.0           390.0            0.0       10.0   \n",
      "1           0.0         0.0             0.0            0.0        0.0   \n",
      "2           0.0       376.0           311.0           17.0       48.0   \n",
      "3           0.0       123.0           105.0            0.0        4.0   \n",
      "4           1.0     12939.0          2445.0          652.0     6053.0   \n",
      "5           0.0       761.0           484.0            0.0      188.0   \n",
      "6           0.0       882.0           760.0            0.0       93.0   \n",
      "7           0.0       401.0           128.0            0.0      200.0   \n",
      "8           0.0       189.0            79.0            0.0       92.0   \n",
      "9           0.0      1109.0           923.0           57.0       44.0   \n",
      "\n",
      "   security_delay  late_aircraft_delay  Unnamed: 21  \n",
      "0             0.0                 37.0          NaN  \n",
      "1             0.0                  0.0          NaN  \n",
      "2             0.0                  0.0          NaN  \n",
      "3             0.0                 14.0          NaN  \n",
      "4             0.0               3789.0          NaN  \n",
      "5             0.0                 89.0          NaN  \n",
      "6             0.0                 29.0          NaN  \n",
      "7             0.0                 73.0          NaN  \n",
      "8             0.0                 18.0          NaN  \n",
      "9             0.0                 85.0          NaN  \n",
      "\n",
      "[10 rows x 22 columns]\n"
     ]
    }
   ],
   "source": [
    "print(df.head(10))"
   ]
  },
  {
   "cell_type": "code",
   "execution_count": 28,
   "metadata": {},
   "outputs": [
    {
     "name": "stdout",
     "output_type": "stream",
     "text": [
      "<class 'pandas.core.frame.DataFrame'>\n",
      "RangeIndex: 158150 entries, 0 to 158149\n",
      "Data columns (total 22 columns):\n",
      "year                   158150 non-null int64\n",
      " month                 158150 non-null int64\n",
      "carrier                158150 non-null object\n",
      "carrier_name           158150 non-null object\n",
      "airport                158150 non-null object\n",
      "airport_name           158150 non-null object\n",
      "arr_flights            157987 non-null float64\n",
      "arr_del15              157953 non-null float64\n",
      "carrier_ct             157987 non-null float64\n",
      " weather_ct            157987 non-null float64\n",
      "nas_ct                 157987 non-null float64\n",
      "security_ct            157987 non-null float64\n",
      "late_aircraft_ct       157987 non-null float64\n",
      "arr_cancelled          157987 non-null float64\n",
      "arr_diverted           157987 non-null float64\n",
      " arr_delay             157987 non-null float64\n",
      " carrier_delay         157987 non-null float64\n",
      "weather_delay          157987 non-null float64\n",
      "nas_delay              157987 non-null float64\n",
      "security_delay         157987 non-null float64\n",
      "late_aircraft_delay    157987 non-null float64\n",
      "Unnamed: 21            0 non-null float64\n",
      "dtypes: float64(16), int64(2), object(4)\n",
      "memory usage: 26.5+ MB\n"
     ]
    }
   ],
   "source": [
    "df.info()"
   ]
  },
  {
   "cell_type": "code",
   "execution_count": 29,
   "metadata": {},
   "outputs": [
    {
     "name": "stdout",
     "output_type": "stream",
     "text": [
      "                year          month    arr_flights      arr_del15  \\\n",
      "count  158150.000000  158150.000000  157987.000000  157953.000000   \n",
      "mean     2014.939589       6.487708     397.778298      73.040537   \n",
      "std         3.082633       3.459573    1051.773244     187.527048   \n",
      "min      2010.000000       1.000000       1.000000       0.000000   \n",
      "25%      2012.000000       3.000000      58.000000       9.000000   \n",
      "50%      2015.000000       6.000000     119.000000      21.000000   \n",
      "75%      2018.000000       9.000000     286.000000      55.000000   \n",
      "max      2020.000000      12.000000   21977.000000    5268.000000   \n",
      "\n",
      "          carrier_ct     weather_ct         nas_ct    security_ct  \\\n",
      "count  157987.000000  157987.000000  157987.000000  157987.000000   \n",
      "mean       20.922144       2.227658      22.693087       0.135372   \n",
      "std        46.020827       6.865975      69.029527       0.576120   \n",
      "min         0.000000       0.000000       0.000000       0.000000   \n",
      "25%         2.900000       0.000000       1.740000       0.000000   \n",
      "50%         7.600000       0.450000       5.180000       0.000000   \n",
      "75%        18.990000       1.880000      14.440000       0.000000   \n",
      "max      1242.160000     295.280000    2401.790000      19.530000   \n",
      "\n",
      "       late_aircraft_ct  arr_cancelled   arr_diverted      arr_delay  \\\n",
      "count     157987.000000  157987.000000  157987.000000  157987.000000   \n",
      "mean          27.046615       6.936824       0.938362    4395.609335   \n",
      "std           77.192888      34.783258       3.963905   12347.436353   \n",
      "min            0.000000       0.000000       0.000000       0.000000   \n",
      "25%            2.070000       0.000000       0.000000     438.000000   \n",
      "50%            6.640000       1.000000       0.000000    1196.000000   \n",
      "75%           18.310000       4.000000       1.000000    3180.000000   \n",
      "max         1849.000000    4951.000000     256.000000  429194.000000   \n",
      "\n",
      "        carrier_delay  weather_delay      nas_delay  security_delay  \\\n",
      "count   157987.000000  157987.000000  157987.000000   157987.000000   \n",
      "mean      1360.134853     204.581915    1056.490458        5.846665   \n",
      "std       3608.829136     729.012316    3793.383559       31.580154   \n",
      "min          0.000000       0.000000       0.000000        0.000000   \n",
      "25%        143.000000       0.000000      58.000000        0.000000   \n",
      "50%        431.000000      20.000000     192.000000        0.000000   \n",
      "75%       1150.000000     146.000000     574.000000        0.000000   \n",
      "max     196944.000000   31960.000000  137443.000000     3194.000000   \n",
      "\n",
      "       late_aircraft_delay  Unnamed: 21  \n",
      "count        157987.000000          0.0  \n",
      "mean           1768.554216          NaN  \n",
      "std            5160.609174          NaN  \n",
      "min               0.000000          NaN  \n",
      "25%             113.000000          NaN  \n",
      "50%             413.000000          NaN  \n",
      "75%            1223.000000          NaN  \n",
      "max          148181.000000          NaN  \n"
     ]
    }
   ],
   "source": [
    "print(df.describe())"
   ]
  },
  {
   "cell_type": "markdown",
   "metadata": {},
   "source": [
    "### What is the structure of your dataset?"
   ]
  },
  {
   "cell_type": "markdown",
   "metadata": {},
   "source": [
    "We have information about 158.149 flights from different carries. For those carries wie have 21 points of information (the last column Unnamed:21 is empty and will not be included in futher anaylses)"
   ]
  },
  {
   "cell_type": "markdown",
   "metadata": {},
   "source": [
    "### What is/are the main feature(s) of interest in your dataset?"
   ]
  },
  {
   "cell_type": "markdown",
   "metadata": {},
   "source": [
    "The main features of interest are information about cause of delay and cancelation of flights of different carries."
   ]
  },
  {
   "cell_type": "markdown",
   "metadata": {},
   "source": [
    "### What features in the dataset do you think will help support your investigation into your feature(s) of interest?"
   ]
  },
  {
   "cell_type": "markdown",
   "metadata": {},
   "source": [
    "There is five cause of delay - Carrier, Weather, NAS, Security and Late Aircraft, as well as there are two cancelation information - cancelated or diverted flight. \n",
    "\n",
    "I wann analyse per Year which reason was the strongest and which carries had the most cancelation and diverted rate and see if I can find some patterns."
   ]
  },
  {
   "cell_type": "markdown",
   "metadata": {},
   "source": [
    "## Univariate Exploration\n",
    "\n",
    "I'll start by looking at the distribution of the delays reasons and cancelation rate."
   ]
  },
  {
   "cell_type": "code",
   "execution_count": 36,
   "metadata": {},
   "outputs": [
    {
     "data": {
      "text/plain": [
       "<matplotlib.axes._subplots.AxesSubplot at 0x2ab5113d608>"
      ]
     },
     "execution_count": 36,
     "metadata": {},
     "output_type": "execute_result"
    },
    {
     "data": {
      "image/png": "[encoded data removed]",
      "text/plain": [
       "<Figure size 432x288 with 1 Axes>"
      ]
     },
     "metadata": {
      "needs_background": "light"
     },
     "output_type": "display_data"
    }
   ],
   "source": [
    "base_color = sb.color_palette()[0]\n",
    "sb.countplot(data=df, x='carrier', color = base_color)\n"
   ]
  },
  {
   "cell_type": "code",
   "execution_count": 40,
   "metadata": {},
   "outputs": [
    {
     "data": {
      "text/plain": [
       "(array([ 0,  1,  2,  3,  4,  5,  6,  7,  8,  9, 10, 11, 12, 13, 14, 15, 16,\n",
       "        17, 18, 19, 20, 21, 22, 23, 24, 25]),\n",
       " <a list of 26 Text xticklabel objects>)"
      ]
     },
     "execution_count": 40,
     "metadata": {},
     "output_type": "execute_result"
    },
    {
     "data": {
      "image/png": "[encoded data removed]",
      "text/plain": [
       "<Figure size 432x288 with 1 Axes>"
      ]
     },
     "metadata": {
      "needs_background": "light"
     },
     "output_type": "display_data"
    }
   ],
   "source": [
    "base_color = sb.color_palette()[0]\n",
    "sb.countplot(data=df, x='carrier_name', color = base_color)\n",
    "plt.xticks(rotation=90)"
   ]
  },
  {
   "cell_type": "code",
   "execution_count": 53,
   "metadata": {},
   "outputs": [
    {
     "data": {
      "image/png": "[encoded data removed]",
      "text/plain": [
       "<Figure size 432x288 with 1 Axes>"
      ]
     },
     "metadata": {
      "needs_background": "light"
     },
     "output_type": "display_data"
    }
   ],
   "source": [
    "bin_edges=np.arange(1,df['weather_delay'].max()+10,10)\n",
    "plt.hist(data = df, x = 'weather_delay', bins = bin_edges)\n",
    "plt.xlim((1,400));\n",
    "\n",
    "#excluding 0 for the best picture of distribution"
   ]
  },
  {
   "cell_type": "code",
   "execution_count": 62,
   "metadata": {},
   "outputs": [
    {
     "data": {
      "image/png": "[encoded data removed]",
      "text/plain": [
       "<Figure size 432x288 with 1 Axes>"
      ]
     },
     "metadata": {
      "needs_background": "light"
     },
     "output_type": "display_data"
    }
   ],
   "source": [
    "bins =np.arange(1,df[' carrier_delay'].max()+10,10)\n",
    "plt.hist(data = df, x = ' carrier_delay', bins = bins);\n",
    "plt.xlim((1,1000));"
   ]
  },
  {
   "cell_type": "code",
   "execution_count": 64,
   "metadata": {},
   "outputs": [
    {
     "data": {
      "image/png": "[encoded data removed]",
      "text/plain": [
       "<Figure size 432x288 with 1 Axes>"
      ]
     },
     "metadata": {
      "needs_background": "light"
     },
     "output_type": "display_data"
    }
   ],
   "source": [
    "bins =np.arange(1,df['nas_delay'].max()+10,10)\n",
    "plt.hist(data = df, x = 'nas_delay', bins = bins);\n",
    "plt.xlim((1,1000));"
   ]
  },
  {
   "cell_type": "code",
   "execution_count": 66,
   "metadata": {},
   "outputs": [
    {
     "data": {
      "image/png": "[encoded data removed]",
      "text/plain": [
       "<Figure size 432x288 with 1 Axes>"
      ]
     },
     "metadata": {
      "needs_background": "light"
     },
     "output_type": "display_data"
    }
   ],
   "source": [
    "bins =np.arange(1,df['security_delay'].max()+10,10)\n",
    "plt.hist(data = df, x = 'security_delay', bins = bins);\n",
    "plt.xlim((1,200));"
   ]
  },
  {
   "cell_type": "code",
   "execution_count": 68,
   "metadata": {},
   "outputs": [
    {
     "data": {
      "image/png": "[encoded data removed]",
      "text/plain": [
       "<Figure size 432x288 with 1 Axes>"
      ]
     },
     "metadata": {
      "needs_background": "light"
     },
     "output_type": "display_data"
    }
   ],
   "source": [
    "bins =np.arange(1,df['late_aircraft_delay'].max()+10,10)\n",
    "plt.hist(data = df, x = 'late_aircraft_delay', bins = bins);\n",
    "plt.xlim((1,2000));"
   ]
  },
  {
   "cell_type": "code",
   "execution_count": 76,
   "metadata": {},
   "outputs": [
    {
     "data": {
      "image/png": "[encoded data removed]",
      "text/plain": [
       "<Figure size 432x288 with 1 Axes>"
      ]
     },
     "metadata": {
      "needs_background": "light"
     },
     "output_type": "display_data"
    }
   ],
   "source": [
    "bin_edges = 10 ** np.arange(0.8, np.log10(df['late_aircraft_delay'].max())+0.1, 0.1)\n",
    "plt.hist(df['late_aircraft_delay'], bins = bin_edges)\n",
    "plt.xscale('log')\n",
    "#tick_locs = [10, 30, 100, 300, 1000, 3000, 10000, 30000, 100000]\n",
    "#plt.xticks(tick_locs, tick_locs);"
   ]
  },
  {
   "cell_type": "code",
   "execution_count": null,
   "metadata": {},
   "outputs": [],
   "source": []
  }
 ],
 "metadata": {
  "kernelspec": {
   "display_name": "Python 3",
   "language": "python",
   "name": "python3"
  },
  "language_info": {
   "codemirror_mode": {
    "name": "ipython",
    "version": 3
   },
   "file_extension": ".py",
   "mimetype": "text/x-python",
   "name": "python",
   "nbconvert_exporter": "python",
   "pygments_lexer": "ipython3",
   "version": "3.7.6"
  }
 },
 "nbformat": 4,
 "nbformat_minor": 2
}
